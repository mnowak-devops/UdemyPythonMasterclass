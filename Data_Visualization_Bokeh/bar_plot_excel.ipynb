{
 "cells": [
  {
   "cell_type": "code",
   "execution_count": 2,
   "metadata": {},
   "outputs": [],
   "source": [
    "#Importing the necessary modules and tools\n",
    "from bokeh.models import ColumnDataSource\n",
    "from bokeh.palettes import Spectral10\n",
    "from bokeh.plotting import figure, output_file, show\n",
    "from bokeh.transform import factor_cmap\n",
    "\n",
    "import pandas\n",
    "\n",
    "#Reading the Excel data into a Pandas dataframe\n",
    "top10 = pandas.read_excel(r\"C:\\Udemy_Python_Masterclass\\Data_Visualization_Bokeh\\top10.xlsx\")\n",
    "\n",
    "#Creating the output HTML file in the current folder\n",
    "output_file(\"bar_plot.html\")\n",
    "\n",
    "#Referencing the two columns that contain the necessary data\n",
    "language = top10[\"Language\"]\n",
    "rating = top10[\"Ratings\"]\n",
    "\n",
    "#At the most basic level, a ColumnDataSource is simply a mapping between column names and lists of data.\n",
    "#The ColumnDataSource takes a data parameter which is a dict,\n",
    "#with string column names as keys and lists (or arrays) of data values as values.\n",
    "#If one positional argument is passed in to the ColumnDataSource initializer, it will be taken as data.\n",
    "#Once the ColumnDataSource has been created, it can be passed into the source parameter of plotting methods\n",
    "#which allows you to pass a column’s name as a stand in for the data values\n",
    "#Source: https://bokeh.pydata.org/en/latest/docs/user_guide/data.html#columndatasource\n",
    "source = ColumnDataSource(data = dict(language = language, rating = rating))\n",
    "\n",
    "#Creating a new plot with various optional parameters\n",
    "#Ranges: https://bokeh.pydata.org/en/latest/docs/user_guide/plotting.html#setting-ranges\n",
    "p = figure(x_range = language, plot_height = 800, toolbar_location = None, title = \"Top 10 Programming Languages\")\n",
    "\n",
    "#Drawing the vertical bars and setting visual properties\n",
    "#vbar: https://bokeh.pydata.org/en/latest/docs/reference/models/glyphs/vbar.html\n",
    "#factor_cmap: https://bokeh.pydata.org/en/latest/docs/reference/transform.html#bokeh.transform.factor_cmap\n",
    "p.vbar(x = 'language', top = 'rating', width = 0.7, source = source, legend_label = \"Languages\",\n",
    "       line_color = 'black', fill_color = factor_cmap('language', palette = Spectral10, factors = language))\n",
    "\n",
    "#Setting other optional parameters\n",
    "p.xgrid.grid_line_color = \"black\"\n",
    "p.ygrid.grid_line_color = \"black\"\n",
    "p.y_range.start = 0\n",
    "p.y_range.end = 16\n",
    "p.legend.orientation = \"horizontal\"\n",
    "p.legend.location = \"top_right\"\n",
    "\n",
    "#Displaying the final result\n",
    "show(p)"
   ]
  }
 ],
 "metadata": {
  "interpreter": {
   "hash": "63fd5069d213b44bf678585dea6b12cceca9941eaf7f819626cde1f2670de90d"
  },
  "kernelspec": {
   "display_name": "Python 3.9.5 64-bit",
   "name": "python3"
  },
  "language_info": {
   "codemirror_mode": {
    "name": "ipython",
    "version": 3
   },
   "file_extension": ".py",
   "mimetype": "text/x-python",
   "name": "python",
   "nbconvert_exporter": "python",
   "pygments_lexer": "ipython3",
   "version": "3.9.5"
  },
  "orig_nbformat": 4
 },
 "nbformat": 4,
 "nbformat_minor": 2
}
