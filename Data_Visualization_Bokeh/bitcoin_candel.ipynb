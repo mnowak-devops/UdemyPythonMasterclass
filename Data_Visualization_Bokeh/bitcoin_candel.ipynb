{
 "cells": [
  {
   "cell_type": "code",
   "execution_count": 2,
   "metadata": {},
   "outputs": [
    {
     "name": "stdout",
     "output_type": "stream",
     "text": [
      "        Date   Open   High    Low  Close\n",
      "0   10/20/21  64120  66923  63594  65971\n",
      "1   10/19/21  61369  64322  61139  64120\n",
      "2   10/18/21  59472  62626  59395  61445\n",
      "3   10/17/21  61013  61408  59071  59472\n",
      "4   10/16/21  62496  62526  60184  61024\n",
      "..       ...    ...    ...    ...    ...\n",
      "76  08/05/21  39745  41367  37454  40908\n",
      "77  08/04/21  38113  39851  37558  39706\n",
      "78  08/03/21  38861  39773  37768  38113\n",
      "79  08/02/21  41310  41313  38720  38857\n",
      "80  08/01/21  41516  42551  40694  41310\n",
      "\n",
      "[81 rows x 5 columns]\n"
     ]
    }
   ],
   "source": [
    "#Importing the necessary modules and tools\n",
    "from math import pi\n",
    " \n",
    "import pandas\n",
    " \n",
    "from bokeh.plotting import figure, show, output_file\n",
    " \n",
    "#Reading the HTML data into a Pandas dataframe\n",
    "df = pandas.read_csv(r\"C:\\Udemy_Python_Masterclass\\Data_Visualization_Bokeh\\HistoricalPrices.csv\")\n",
    "print (df)\n",
    "#Converting the Date column to the proper datetime format\n",
    "#e.g. from \"Mar 20, 2019\" to \"2019-03-20\"\n",
    "df[\"Date\"] = pandas.to_datetime(df[\"Date\"])\n",
    " \n",
    "#Renaming the columns to eliminate any issues caused by the asterisk(s)\n",
    "df.rename(index = str, columns = {\"Open*\": \"Open\"}, inplace = True)\n",
    "df.rename(index = str, columns = {\"Close\": \"Close\"}, inplace = True)\n",
    " \n",
    "#Comparing the Open and Close daily prices to set the candle color\n",
    "inc = df.Close > df.Open\n",
    "dec = df.Open > df.Close\n",
    " \n",
    "#Setting the width of each candlestick to half a day (in milliseconds)\n",
    "w = 12 * 60 * 60 * 1000\n",
    " \n",
    "#Defining the optional interactive tools for the plot\n",
    "tools = \"pan,wheel_zoom,box_zoom,reset,save\"\n",
    " \n",
    "#Creating a new plot with various optional parameters\n",
    "p = figure(x_axis_type = \"datetime\", tools = tools, plot_width = 1200, title = \"Bitcoin Candlesticks\")\n",
    " \n",
    "#Setting other optional parameters for visual styling\n",
    "p.xaxis.major_label_orientation = pi / 4\n",
    " \n",
    "p.grid.grid_line_alpha = 0.3\n",
    " \n",
    "#Drawing the vertical bars (candlesticks) and setting visual properties\n",
    "#segment: https://bokeh.pydata.org/en/latest/docs/reference/plotting.html#bokeh.plotting.figure.Figure.segment\n",
    "p.segment(df.Date, df.High, df.Date, df.Low, color = \"black\")\n",
    " \n",
    "p.vbar(df.Date[inc], w, df.Open[inc], df.Close[inc], fill_color = \"#D5E1DD\", line_color = \"black\")\n",
    " \n",
    "p.vbar(df.Date[dec], w, df.Open[dec], df.Close[dec], fill_color = \"#F2583E\", line_color = \"black\")\n",
    " \n",
    "#Creating the output HTML file in the current folder\n",
    "output_file(\"bitcoin.html\", title = \"Bitcoin Candlesticks\")\n",
    " \n",
    "#Displaying the final result\n",
    "show(p)"
   ]
  }
 ],
 "metadata": {
  "interpreter": {
   "hash": "63fd5069d213b44bf678585dea6b12cceca9941eaf7f819626cde1f2670de90d"
  },
  "kernelspec": {
   "display_name": "Python 3.9.5 64-bit",
   "name": "python3"
  },
  "language_info": {
   "codemirror_mode": {
    "name": "ipython",
    "version": 3
   },
   "file_extension": ".py",
   "mimetype": "text/x-python",
   "name": "python",
   "nbconvert_exporter": "python",
   "pygments_lexer": "ipython3",
   "version": "3.9.5"
  },
  "orig_nbformat": 4
 },
 "nbformat": 4,
 "nbformat_minor": 2
}
