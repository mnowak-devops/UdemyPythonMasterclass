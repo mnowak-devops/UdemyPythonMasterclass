{
 "cells": [
  {
   "cell_type": "code",
   "execution_count": 1,
   "metadata": {},
   "outputs": [
    {
     "name": "stdout",
     "output_type": "stream",
     "text": [
      "Using data directory: C:\\Users\\DevMat\\.bokeh\\data\n",
      "Skipping 'CGM.csv' (checksum match)\n",
      "Downloading: US_Counties.zip (3171836 bytes)\n",
      "   3171836 [100.00%]\n",
      "Unpacking: US_Counties.csv\n",
      "Downloading: us_cities.json (713565 bytes)\n",
      "    713565 [100.00%]\n",
      "Downloading: unemployment09.csv (253301 bytes)\n",
      "    253301 [100.00%]\n",
      "Downloading: AAPL.csv (166698 bytes)\n",
      "    166698 [100.00%]\n",
      "Downloading: FB.csv (9706 bytes)\n",
      "      9706 [100.00%]\n",
      "Downloading: GOOG.csv (113894 bytes)\n",
      "    113894 [100.00%]\n",
      "Downloading: IBM.csv (165625 bytes)\n",
      "    165625 [100.00%]\n",
      "Downloading: MSFT.csv (161614 bytes)\n",
      "    161614 [100.00%]\n",
      "Downloading: WPP2012_SA_DB03_POPULATION_QUINQUENNIAL.zip (4816256 bytes)\n",
      "   4816256 [100.00%]\n",
      "Unpacking: WPP2012_SA_DB03_POPULATION_QUINQUENNIAL.csv\n",
      "Downloading: gapminder_fertility.csv (64346 bytes)\n",
      "     64346 [100.00%]\n",
      "Downloading: gapminder_population.csv (94509 bytes)\n",
      "     94509 [100.00%]\n",
      "Downloading: gapminder_life_expectancy.csv (73243 bytes)\n",
      "     73243 [100.00%]\n",
      "Downloading: gapminder_regions.csv (7781 bytes)\n",
      "      7781 [100.00%]\n",
      "Downloading: world_cities.zip (645274 bytes)\n",
      "    645274 [100.00%]\n",
      "Unpacking: world_cities.csv\n",
      "Downloading: airports.json (6373 bytes)\n",
      "      6373 [100.00%]\n",
      "Downloading: movies.db.zip (5053420 bytes)\n",
      "   5053420 [100.00%]\n",
      "Unpacking: movies.db\n",
      "Downloading: airports.csv (203190 bytes)\n",
      "    203190 [100.00%]\n",
      "Downloading: routes.csv (377280 bytes)\n",
      "    377280 [100.00%]\n",
      "Downloading: haarcascade_frontalface_default.xml (930127 bytes)\n",
      "    930127 [100.00%]\n"
     ]
    }
   ],
   "source": [
    "import bokeh.sampledata\n",
    "bokeh.sampledata.download()\n",
    " \n",
    "#Importing the necessary modules and tools\n",
    "import numpy as np\n",
    " \n",
    "from bokeh.plotting import figure, show, output_file\n",
    "from bokeh.sampledata.stocks import AAPL, GOOG, IBM, MSFT\n",
    " \n",
    "#Function for converting dates to the proper format\n",
    "def datetime(x):\n",
    "    return np.array(x, dtype = np.datetime64)\n",
    " \n",
    "#Creating a new plot with various optional parameters\n",
    "p = figure(x_axis_type = \"datetime\", title = \"Stock Prices\")\n",
    " \n",
    "#Setting other optional parameters\n",
    "p.grid.grid_line_alpha = 0.3\n",
    "p.xaxis.axis_label = 'Date'\n",
    "p.yaxis.axis_label = 'Price'\n",
    " \n",
    "#Converting dates to the proper format and drawing the lines\n",
    "p.line(datetime(AAPL['date']), AAPL['adj_close'], color = '#A6CEE3', legend_label = 'AAPL')\n",
    "p.line(datetime(GOOG['date']), GOOG['adj_close'], color = '#B2DF8A', legend_label = 'GOOG')\n",
    "p.line(datetime(IBM['date']), IBM['adj_close'], color = '#33A02C', legend_label = 'IBM')\n",
    "p.line(datetime(MSFT['date']), MSFT['adj_close'], color = '#FB9A99', legend_label = 'MSFT')\n",
    " \n",
    "#Setting the location of the legend on the plot\n",
    "p.legend.location = \"top_left\"\n",
    " \n",
    "#Creating the output HTML file in the current folder\n",
    "output_file(\"stocks.html\", title = \"Stocks Comparison\")\n",
    " \n",
    "#Displaying the final result\n",
    "show(p)"
   ]
  }
 ],
 "metadata": {
  "interpreter": {
   "hash": "63fd5069d213b44bf678585dea6b12cceca9941eaf7f819626cde1f2670de90d"
  },
  "kernelspec": {
   "display_name": "Python 3.9.5 64-bit",
   "name": "python3"
  },
  "language_info": {
   "codemirror_mode": {
    "name": "ipython",
    "version": 3
   },
   "file_extension": ".py",
   "mimetype": "text/x-python",
   "name": "python",
   "nbconvert_exporter": "python",
   "pygments_lexer": "ipython3",
   "version": "3.9.5"
  },
  "orig_nbformat": 4
 },
 "nbformat": 4,
 "nbformat_minor": 2
}
