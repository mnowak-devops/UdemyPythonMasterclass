{
 "cells": [
  {
   "cell_type": "code",
   "execution_count": 13,
   "metadata": {},
   "outputs": [
    {
     "name": "stdout",
     "output_type": "stream",
     "text": [
      "        Date   Open   High    Low   Close\n",
      "0   10/20/21  64120  66923  63594   65971\n",
      "1   10/19/21  61369  64322  61139   64120\n",
      "2   10/18/21  59472  62626  59395   61445\n",
      "3   10/17/21  61013  61408  59071   59472\n",
      "4   10/16/21  62496  62526  60184   61024\n",
      "..       ...    ...    ...    ...     ...\n",
      "76  08/05/21  39745  41367  37454   40908\n",
      "77  08/04/21  38113  39851  37558   39706\n",
      "78  08/03/21  38861  39773  37768   38113\n",
      "79  08/02/21  41310  41313  38720   38857\n",
      "80  08/01/21  41516  42551  40694   41310\n",
      "\n",
      "[81 rows x 5 columns]\n",
      "[65971, 64120, 61445, 59472, 61024, 62496, 57491, 56988, 55364, 57390, 55425, 54651, 53951, 54205, 54903, 51378, 49016, 48552, 48045, 48110, 43432, 41114, 41792, 42696, 43607, 42719, 43001, 44679, 43445, 40971, 43489, 47588, 48008, 47028, 47102, 47948, 46828, 45144, 45023, 45333, 45094, 46268, 46154, 46777, 51930, 51652, 50195, 50184, 49556, 48279, 46996, 48670, 48897, 48760, 48946, 47048, 48748, 48364, 49509, 48425, 48988, 48653, 46568, 44593, 45017, 46065, 46750, 46665, 47545, 44440, 46340, 45627, 45482, 43855, 43945, 42673, 40908, 39706, 38113, 38857, 41310]\n"
     ]
    }
   ],
   "source": [
    "#Importing the necessary modules and tools\n",
    "import pandas\n",
    " \n",
    "from bokeh.layouts import column\n",
    "from bokeh.models import ColumnDataSource, RangeTool\n",
    "from bokeh.plotting import figure, output_file, show\n",
    " \n",
    "#Reading the HTML data into a Pandas dataframe\n",
    "df = pandas.read_csv(r\"C:\\Udemy_Python_Masterclass\\Data_Visualization_Bokeh\\HistoricalPrices.csv\")\n",
    "print (df)\n",
    "\n",
    "\n",
    "#Converting the Date column to the proper datetime format\n",
    "#e.g. from \"Mar 20, 2019\" to \"2019-03-20\"\n",
    "df[\"Date\"] = pandas.to_datetime(df[\"Date\"])\n",
    " \n",
    "#Converting the Date column to a NumPy array\n",
    "dates = df[\"Date\"].to_numpy(dtype = 'datetime64[D]')\n",
    " \n",
    "#At the most basic level, a ColumnDataSource is simply a mapping between column names and lists of data.\n",
    "#The ColumnDataSource takes a data parameter which is a dict, \n",
    "#with string column names as keys and lists (or arrays) of data values as values. \n",
    "#If one positional argument is passed in to the ColumnDataSource initializer, it will be taken as data.\n",
    "#Once the ColumnDataSource has been created, it can be passed into the source parameter of plotting methods\n",
    "#which allows you to pass a column’s name as a stand in for the data values\n",
    "#Source: https://bokeh.pydata.org/en/latest/docs/user_guide/data.html#columndatasource\n",
    "close =  df[\" Close\"].values.tolist()\n",
    "print(close)\n",
    "source = ColumnDataSource(data = dict(date = dates, close = close))\n",
    " \n",
    "#Creating a new plot with various optional parameters\n",
    "p = figure(plot_height = 300, plot_width = 1200, tools = \"\", toolbar_location = None,\n",
    "           x_axis_type = \"datetime\", x_axis_location = \"above\",\n",
    "           background_fill_color = \"#efefef\", x_range=(dates[12], dates[20]))\n",
    " \n",
    "#Drawing the line\n",
    "p.line('date', 'close', source = source)\n",
    " \n",
    "#Naming the y axis\n",
    "p.yaxis.axis_label = 'Price'\n",
    " \n",
    "#Creating a new plot (the once containing the range tool) with various optional parameters\n",
    "select = figure(title = \"Drag the middle and edges of the selection box to change the range above\",\n",
    "                plot_height = 130, plot_width = 1200, y_range = p.y_range,\n",
    "                x_axis_type = \"datetime\", y_axis_type = None,\n",
    "                tools = \"\", toolbar_location = None, background_fill_color = \"#efefef\")\n",
    " \n",
    "#Creating the range tool - setting the default range\n",
    "range_tool = RangeTool(x_range = p.x_range)\n",
    " \n",
    "#Setting other optional parameters\n",
    "range_tool.overlay.fill_color = \"navy\"\n",
    "range_tool.overlay.fill_alpha = 0.2\n",
    " \n",
    "#Drawing the line and setting additional parameters\n",
    "select.line('date', 'close', source = source)\n",
    "select.ygrid.grid_line_color = None\n",
    "select.add_tools(range_tool)\n",
    "select.toolbar.active_multi = range_tool\n",
    " \n",
    "#Creating the output HTML file in the current folder\n",
    "output_file(\"btc_range.html\", title = \"Bitcoin Price Chart\")\n",
    " \n",
    "#Displaying the final result\n",
    "show(column(p, select))\n"
   ]
  }
 ],
 "metadata": {
  "interpreter": {
   "hash": "63fd5069d213b44bf678585dea6b12cceca9941eaf7f819626cde1f2670de90d"
  },
  "kernelspec": {
   "display_name": "Python 3.9.5 64-bit",
   "name": "python3"
  },
  "language_info": {
   "codemirror_mode": {
    "name": "ipython",
    "version": 3
   },
   "file_extension": ".py",
   "mimetype": "text/x-python",
   "name": "python",
   "nbconvert_exporter": "python",
   "pygments_lexer": "ipython3",
   "version": "3.9.5"
  },
  "orig_nbformat": 4
 },
 "nbformat": 4,
 "nbformat_minor": 2
}
