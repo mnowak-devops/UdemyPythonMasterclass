{
 "cells": [
  {
   "cell_type": "code",
   "execution_count": 1,
   "metadata": {},
   "outputs": [],
   "source": [
    "#Importing the necessary modules and tools\n",
    "from math import pi\n",
    " \n",
    "import pandas\n",
    " \n",
    "from bokeh.palettes import Category20c\n",
    "from bokeh.plotting import figure, output_file, show\n",
    "from bokeh.transform import cumsum\n",
    " \n",
    "#Creating the output HTML file in the current folder\n",
    "output_file(\"pie.html\")\n",
    " \n",
    "#Reading the CSV data into a Pandas dataframe\n",
    "data = pandas.read_csv(r\"C:\\Udemy_Python_Masterclass\\Data_Visualization_Bokeh\\countries.csv\")\n",
    " \n",
    "#Referencing the two columns that contain the necessary data\n",
    "country = data[\"Country\"]\n",
    "population = data[\"Population\"]\n",
    " \n",
    "#Configuring the pie wedge size based on the Population value\n",
    "data['angle'] = data['Population'] / data['Population'].sum() * (2 * pi)\n",
    " \n",
    "#Configuring the colors to use for each wedge\n",
    "data['color'] = Category20c[len(data)]\n",
    " \n",
    "#Creating a new plot with various optional parameters\n",
    "p = figure(plot_height = 400, title = \"Top 10 Countries by Population\", toolbar_location = None,\n",
    "           tools = \"hover\", tooltips = \"@Country: @Population\", x_range = (-0.5, 1.0))\n",
    " \n",
    "#Configuring wedge visual properties\n",
    "#wedge: https://bokeh.pydata.org/en/latest/docs/reference/models/glyphs/wedge.html\n",
    "#cumsum: https://bokeh.pydata.org/en/latest/docs/reference/transform.html#bokeh.transform.cumsum\n",
    "p.wedge(x = 0, y = 1, radius = 0.4,\n",
    "        start_angle = cumsum('angle', include_zero = True), end_angle = cumsum('angle'),\n",
    "        line_color = \"white\", fill_color = 'color', legend_field = 'Country', source = data)\n",
    " \n",
    "#Setting other optional parameters\n",
    "p.axis.axis_label = None\n",
    "p.axis.visible = False\n",
    "p.grid.grid_line_color = None\n",
    " \n",
    "#Displaying the final result\n",
    "show(p)"
   ]
  }
 ],
 "metadata": {
  "interpreter": {
   "hash": "63fd5069d213b44bf678585dea6b12cceca9941eaf7f819626cde1f2670de90d"
  },
  "kernelspec": {
   "display_name": "Python 3.9.5 64-bit",
   "name": "python3"
  },
  "language_info": {
   "codemirror_mode": {
    "name": "ipython",
    "version": 3
   },
   "file_extension": ".py",
   "mimetype": "text/x-python",
   "name": "python",
   "nbconvert_exporter": "python",
   "pygments_lexer": "ipython3",
   "version": "3.9.5"
  },
  "orig_nbformat": 4
 },
 "nbformat": 4,
 "nbformat_minor": 2
}
